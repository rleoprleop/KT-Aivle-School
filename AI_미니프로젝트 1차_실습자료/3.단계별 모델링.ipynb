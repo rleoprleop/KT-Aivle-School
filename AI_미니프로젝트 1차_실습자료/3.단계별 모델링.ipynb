{
 "cells": [
  {
   "cell_type": "markdown",
   "metadata": {
    "id": "NbI_RoQ9AP5r"
   },
   "source": [
    "#**스마트폰 센서 데이터 기반 모션 분류**\n",
    "# 단계3 : 단계별 모델링\n"
   ]
  },
  {
   "cell_type": "markdown",
   "metadata": {
    "id": "JmtZXcVs0IXm"
   },
   "source": [
    "## 0.미션4"
   ]
  },
  {
   "cell_type": "markdown",
   "metadata": {
    "id": "1Q7N3tIf0IXn"
   },
   "source": [
    "* 단계별로 나눠서 모델링을 수행하고자 합니다.  \n",
    "* 단계 구분 예시\n",
    "    * 단계1 : 정적(0), 동적(1) 행동 분류 모델 생성\n",
    "    * 단계2 : 세부 동작에 대한 분류모델 생성\n",
    "        * 단계1 모델에서 0으로 예측 -> 정적 행동 3가지 분류 모델링\n",
    "        * 단계1 모델에서 1으로 예측 -> 동적 행동 3가지 분류 모델링\n",
    "* (선택) 모델 통합\n",
    "    * 두 단계 모델을 통합하고, 새로운 데이터에 대해서 최종 예측결과와 성능평가가 나오도록 함수로 만들기\n",
    "* 성능 비교\n",
    "    * 기본 모델링의 성능과 비교\n",
    "    * 성능 가이드\n",
    "        * Accuracy : 0.97 ~ 0.99\n",
    "* (선택) 파이프라인 구성\n",
    "    * test 데이터를 입력하여, 전처리 및 예측결과가 나오도록 함수 구성"
   ]
  },
  {
   "cell_type": "markdown",
   "metadata": {
    "id": "rgiFiMnzd3Jn"
   },
   "source": [
    "## 1.환경설정"
   ]
  },
  {
   "cell_type": "markdown",
   "metadata": {
    "id": "0fDUoBYfd3Jx"
   },
   "source": [
    "* 세부 요구사항\n",
    "    - 경로 설정 : 구글콜랩\n",
    "        * 구글 드라이브 바로 밑에 project3 폴더를 만들고,\n",
    "        * 데이터 파일을 복사해 넣습니다.\n",
    "    - 기본적으로 필요한 라이브러리를 import 하도록 코드가 작성되어 있습니다.\n",
    "        * 필요하다고 판단되는 라이브러리를 추가하세요.\n"
   ]
  },
  {
   "cell_type": "markdown",
   "metadata": {
    "id": "EP6x0_Qrd3Jx"
   },
   "source": [
    "### (1) 경로 설정"
   ]
  },
  {
   "cell_type": "markdown",
   "metadata": {
    "id": "Nc5ajfyHd3Jx"
   },
   "source": [
    "* 구글 드라이브 연결"
   ]
  },
  {
   "cell_type": "code",
   "execution_count": null,
   "metadata": {
    "id": "Ic8ZeFKcd3Jx"
   },
   "outputs": [],
   "source": [
    "from google.colab import drive\n",
    "drive.mount('/content/drive')"
   ]
  },
  {
   "cell_type": "code",
   "execution_count": null,
   "metadata": {
    "id": "rR-drTHhd3Jx"
   },
   "outputs": [],
   "source": [
    "path = '/content/drive/MyDrive/project3/'"
   ]
  },
  {
   "cell_type": "markdown",
   "metadata": {
    "id": "Tqpjn1W3d3Jx"
   },
   "source": [
    "### (2) 라이브러리 불러오기"
   ]
  },
  {
   "cell_type": "markdown",
   "metadata": {
    "id": "-ZxRcPNqd3Jy"
   },
   "source": [
    "* 라이브러리 로딩\n",
    "  - pandas, numpy,matplotlib,seaborn, joblib, 모델링에 필요한 라이브러리를 로딩합니다. "
   ]
  },
  {
   "cell_type": "code",
   "execution_count": null,
   "metadata": {
    "id": "___ks_QAd3Jy"
   },
   "outputs": [],
   "source": [
    "import pandas as pd\n",
    "import numpy as np\n",
    "import matplotlib.pyplot as plt\n",
    "import seaborn as sns\n",
    "\n",
    "import joblib\n",
    "\n",
    "from sklearn.model_selection import train_test_split\n",
    "from sklearn.preprocessing import MinMaxScaler, LabelEncoder\n",
    "from sklearn.metrics import *\n",
    "\n",
    "from keras.models import Sequential\n",
    "from keras.layers import Dense, Flatten, Dropout\n",
    "from keras.backend import clear_session\n",
    "from keras.optimizers import Adam"
   ]
  },
  {
   "cell_type": "code",
   "execution_count": null,
   "metadata": {
    "id": "3c4JgiEbNKfo"
   },
   "outputs": [],
   "source": [
    "# 학습곡선 함수\n",
    "def dl_history_plot(history):\n",
    "    plt.figure(figsize=(10,6))\n",
    "    plt.plot(history['loss'], label='train_err', marker = '.')\n",
    "    plt.plot(history['val_loss'], label='val_err', marker = '.')\n",
    "\n",
    "    plt.ylabel('Loss')\n",
    "    plt.xlabel('Epoch')\n",
    "    plt.legend()\n",
    "    plt.grid()\n",
    "    plt.show()"
   ]
  },
  {
   "cell_type": "markdown",
   "metadata": {
    "id": "bA-eHXdwBDCz"
   },
   "source": [
    "### (3) 데이터 불러오기"
   ]
  },
  {
   "cell_type": "markdown",
   "metadata": {
    "id": "tDueQoA3d3Jy"
   },
   "source": [
    "* 주어진 데이터셋\n",
    "    * data01_train.csv : 학습 및 검증용\n",
    "    * data01_test.csv : 테스트용\n",
    "    * feature.csv : feature 이름을 계층구조로 정리한 데이터\n",
    "\n",
    "* 세부 요구사항\n",
    "    * 칼럼 삭제 : data01_train.csv와 data01_test.csv 에서 'subject' 칼럼은 불필요하므로 삭제합니다."
   ]
  },
  {
   "cell_type": "markdown",
   "metadata": {
    "id": "fmgUEGOipvG5"
   },
   "source": [
    "#### 1) 데이터로딩"
   ]
  },
  {
   "cell_type": "code",
   "execution_count": null,
   "metadata": {
    "id": "HdZCcSs6qfRC"
   },
   "outputs": [],
   "source": [
    "# 주어진 데이터 셋을 불러오세요.(3개)"
   ]
  },
  {
   "cell_type": "code",
   "execution_count": null,
   "metadata": {
    "id": "V8tUE_fyqfRC"
   },
   "outputs": [],
   "source": [
    "#불필요한 칼럼을 삭제하세요."
   ]
  },
  {
   "cell_type": "code",
   "execution_count": null,
   "metadata": {
    "id": "FcUbOi_-qfRC"
   },
   "outputs": [],
   "source": []
  },
  {
   "cell_type": "markdown",
   "metadata": {
    "id": "aI7qJqz3pr3m"
   },
   "source": [
    "#### 2) 기본 정보 조회"
   ]
  },
  {
   "cell_type": "code",
   "execution_count": null,
   "metadata": {
    "id": "yFVSAGNhpr3m"
   },
   "outputs": [],
   "source": [
    "#전체 데이터의 행,열 개수 확인"
   ]
  },
  {
   "cell_type": "code",
   "execution_count": null,
   "metadata": {
    "id": "xJnnr8K-pr3m"
   },
   "outputs": [],
   "source": [
    "#전체 데이터의 상위 5개 행 확인"
   ]
  },
  {
   "cell_type": "code",
   "execution_count": null,
   "metadata": {
    "id": "ajJ1qJkhpr3n"
   },
   "outputs": [],
   "source": [
    "#전체 데이터의 수치형 변수 분포 확인"
   ]
  },
  {
   "cell_type": "code",
   "execution_count": null,
   "metadata": {
    "id": "Jn78I6JFpr3n"
   },
   "outputs": [],
   "source": [
    "#전체 데이터의 모든 변수 확인"
   ]
  },
  {
   "cell_type": "markdown",
   "metadata": {
    "id": "O38e5xai7SIW"
   },
   "source": [
    "## 2.데이터 전처리"
   ]
  },
  {
   "cell_type": "markdown",
   "metadata": {
    "id": "5vKH3MU30d8H"
   },
   "source": [
    "* 세부 요구사항\n",
    "    - Label 추가 : 1단계 모델을 위한 레이블 추가\n",
    "    - train : val = 8 : 2 혹은 7 : 3\n",
    "    - random_state 옵션을 사용하여 다른 모델과 비교를 위해 성능이 재현되도록 합니다."
   ]
  },
  {
   "cell_type": "markdown",
   "metadata": {
    "id": "wHxeKHxze2uL"
   },
   "source": [
    "### (1) 1단계 모델링을 위한 레이블"
   ]
  },
  {
   "cell_type": "code",
   "execution_count": null,
   "metadata": {
    "id": "bT3ScKtUe76_"
   },
   "outputs": [],
   "source": [
    "#Lable 추가(1단계 모델:정적(0), 동적(1) 행동 분류 모델 생성 )"
   ]
  },
  {
   "cell_type": "markdown",
   "metadata": {
    "id": "uAsBmDupKQX8"
   },
   "source": [
    "### (2) x, y 분리"
   ]
  },
  {
   "cell_type": "code",
   "execution_count": null,
   "metadata": {
    "id": "JVOseiQLKMoq"
   },
   "outputs": [],
   "source": [
    "#x,y 분리하기"
   ]
  },
  {
   "cell_type": "markdown",
   "metadata": {
    "id": "A8hxVzM3Agvw"
   },
   "source": [
    "### (3) 스케일링\n"
   ]
  },
  {
   "cell_type": "markdown",
   "metadata": {
    "id": "8OHAQJ9HJZP8"
   },
   "source": [
    "* 세부 요구사항\n",
    "    - 스케일링을 필요로 하는 알고리즘 사용을 위해서 코드 수행\n",
    "    - min-max 방식 혹은 standard 방식 중 한가지 사용."
   ]
  },
  {
   "cell_type": "code",
   "execution_count": null,
   "metadata": {
    "id": "egLANGC5BMmk"
   },
   "outputs": [],
   "source": [
    "#스케일링 방식을 선택해서 스케일링을 진행합니다. "
   ]
  },
  {
   "cell_type": "markdown",
   "metadata": {
    "id": "TH_rqRv6jA9V"
   },
   "source": [
    "### (4) 데이터 분할\n",
    "* train, val 분할"
   ]
  },
  {
   "cell_type": "code",
   "execution_count": null,
   "metadata": {
    "id": "EATFZQZpx5yR"
   },
   "outputs": [],
   "source": [
    "#데이터 분할 진행(train:val = 8:2 혹은 7:3 권장)"
   ]
  },
  {
   "cell_type": "markdown",
   "metadata": {
    "id": "bue7ZTLABQzi"
   },
   "source": [
    "## **3.단계별 모델링**"
   ]
  },
  {
   "cell_type": "markdown",
   "metadata": {
    "id": "fCpsgFz40pJ3"
   },
   "source": [
    "### (1) 단계1"
   ]
  },
  {
   "cell_type": "markdown",
   "metadata": {
    "id": "JtwoYR2e0pJ3"
   },
   "source": [
    "* 세부 요구사항\n",
    "    * 적절한 단계로 구분한 후, 1단계를 분류하는 모델 생성\n",
    "        * 예시 : 정적 행동(Laying, Sitting, Standing)과 동적 행동(동적 : Walking, Walking-Up, Walking-Down)을 구분하는 모델 생성.\n",
    "    * 몇 가지 모델을 만들고 가장 성능이 좋은 모델을 선정하시오.(기본 모델링 참고)"
   ]
  },
  {
   "cell_type": "markdown",
   "metadata": {
    "id": "cWYtB_nUD6zu"
   },
   "source": [
    "#### 1) 모델1"
   ]
  },
  {
   "cell_type": "code",
   "execution_count": null,
   "metadata": {
    "id": "6lV2HRaPf4k8"
   },
   "outputs": [],
   "source": [
    "# 모델 설계"
   ]
  },
  {
   "cell_type": "code",
   "execution_count": null,
   "metadata": {
    "id": "oq7lvKmE0rrO"
   },
   "outputs": [],
   "source": [
    "# 컴파일 및 학습"
   ]
  },
  {
   "cell_type": "code",
   "execution_count": null,
   "metadata": {
    "id": "vmBi9eq40rnu"
   },
   "outputs": [],
   "source": [
    "# 학습곡선"
   ]
  },
  {
   "cell_type": "code",
   "execution_count": null,
   "metadata": {},
   "outputs": [],
   "source": [
    "# 예측 및 평가"
   ]
  },
  {
   "cell_type": "markdown",
   "metadata": {
    "id": "Xo6HcoOUh8I5"
   },
   "source": [
    "#### 2) 모델2"
   ]
  },
  {
   "cell_type": "code",
   "execution_count": null,
   "metadata": {
    "id": "rgQFTyrn0uLA"
   },
   "outputs": [],
   "source": [
    "# 모델 설계"
   ]
  },
  {
   "cell_type": "code",
   "execution_count": null,
   "metadata": {
    "id": "Mjl9LNyQ0uIm"
   },
   "outputs": [],
   "source": [
    "# 컴파일 및 학습"
   ]
  },
  {
   "cell_type": "code",
   "execution_count": null,
   "metadata": {
    "id": "zZ05bc900uFd"
   },
   "outputs": [],
   "source": [
    "# 학습곡선"
   ]
  },
  {
   "cell_type": "code",
   "execution_count": null,
   "metadata": {},
   "outputs": [],
   "source": [
    "# 예측 및 평가"
   ]
  },
  {
   "cell_type": "markdown",
   "metadata": {
    "id": "cK9A9XmW0pJ8"
   },
   "source": [
    "### (2) 단계2"
   ]
  },
  {
   "cell_type": "markdown",
   "metadata": {
    "id": "uPFEN7aniicS"
   },
   "source": [
    "#### 1) 단계2-1 : 정적 동작 세부 분류"
   ]
  },
  {
   "cell_type": "markdown",
   "metadata": {
    "id": "S8v3DgDX0pJ8"
   },
   "source": [
    "* 세부 요구사항\n",
    "    * 정적 행동(Laying, Sitting, Standing)인 데이터 추출\n",
    "    * Laying, Sitting, Standing 를 분류하는 모델을 생성\n",
    "    * 몇가지 모델을 만들고 가장 성능이 좋은 모델을 선정하시오."
   ]
  },
  {
   "cell_type": "code",
   "execution_count": null,
   "metadata": {
    "id": "ZUnIqQ3O0yrb"
   },
   "outputs": [],
   "source": [
    "# (tip) 정적 행동(0)인 데이터 추출"
   ]
  },
  {
   "cell_type": "code",
   "execution_count": null,
   "metadata": {
    "id": "PY2uBvF90ynr"
   },
   "outputs": [],
   "source": [
    "# (tip) 인코딩 진행, map 활용해서 숫자레이블로 매핑핑"
   ]
  },
  {
   "cell_type": "code",
   "execution_count": null,
   "metadata": {
    "id": "rUcp7mTm0ykX"
   },
   "outputs": [],
   "source": [
    "# 모델 설계"
   ]
  },
  {
   "cell_type": "code",
   "execution_count": null,
   "metadata": {},
   "outputs": [],
   "source": [
    "# 컴파일 및 학습"
   ]
  },
  {
   "cell_type": "code",
   "execution_count": null,
   "metadata": {},
   "outputs": [],
   "source": [
    "# 학습곡선"
   ]
  },
  {
   "cell_type": "code",
   "execution_count": null,
   "metadata": {},
   "outputs": [],
   "source": [
    "# 예측 및 평가"
   ]
  },
  {
   "cell_type": "markdown",
   "metadata": {
    "id": "WFaqIRAy0pJ-"
   },
   "source": [
    "#### 2) 단계2-2 : 동적 동작 세부 분류"
   ]
  },
  {
   "cell_type": "markdown",
   "metadata": {
    "id": "dwGTMsJ60pJ-"
   },
   "source": [
    "* 세부 요구사항\n",
    "    * 동적 행동(Walking, Walking Upstairs, Walking Downstairs)인 데이터 추출\n",
    "    * Walking, Walking Upstairs, Walking Downstairs 를 분류하는 모델을 생성\n",
    "    * 몇가지 모델을 만들고 가장 성능이 좋은 모델을 선정하시오."
   ]
  },
  {
   "cell_type": "code",
   "execution_count": null,
   "metadata": {
    "id": "tfLclxZB00V9"
   },
   "outputs": [],
   "source": [
    "# (tip) 동적 행동(1)인 데이터 추출"
   ]
  },
  {
   "cell_type": "code",
   "execution_count": null,
   "metadata": {
    "id": "ErvefaZL00SZ"
   },
   "outputs": [],
   "source": [
    "# (tip) map 활용해서 숫자레이블로 매핑핑"
   ]
  },
  {
   "cell_type": "code",
   "execution_count": null,
   "metadata": {
    "id": "-pG1CDkk00PJ"
   },
   "outputs": [],
   "source": [
    "# 모델 설계"
   ]
  },
  {
   "cell_type": "code",
   "execution_count": null,
   "metadata": {},
   "outputs": [],
   "source": [
    "# 컴파일 및 학습"
   ]
  },
  {
   "cell_type": "code",
   "execution_count": null,
   "metadata": {},
   "outputs": [],
   "source": [
    "# 학습곡선"
   ]
  },
  {
   "cell_type": "code",
   "execution_count": null,
   "metadata": {},
   "outputs": [],
   "source": [
    "# 예측 및 평가"
   ]
  },
  {
   "cell_type": "markdown",
   "metadata": {
    "id": "G0vxLxBy1MHk"
   },
   "source": [
    "### (3) (옵션) 분류 모델 파이프라인 구성\n"
   ]
  },
  {
   "cell_type": "markdown",
   "metadata": {
    "id": "6ypgwVbm1MHl"
   },
   "source": [
    "* 세부 요구사항\n",
    "    * 두 단계 모델을 통합하고, 새로운 데이터(test)에 대해서 최종 예측결과와 성능평가가 나오도록 함수로 만들기\n",
    "    * 데이터 파이프라인 구축 : test데이터가 로딩되어 전처리 과정을 거치고, 예측 및 성능 평가 수행"
   ]
  },
  {
   "cell_type": "markdown",
   "metadata": {
    "id": "J6mVuIA51MHm"
   },
   "source": [
    "* 예시\n",
    "![](https://github.com/DA4BAM/image/blob/main/pipeline%20function.png?raw=true)"
   ]
  },
  {
   "cell_type": "markdown",
   "metadata": {
    "id": "Re6LpNYhi5d3"
   },
   "source": [
    "#### 1) 함수 만들기"
   ]
  },
  {
   "cell_type": "code",
   "execution_count": null,
   "metadata": {
    "id": "THvjpwK31MHn"
   },
   "outputs": [],
   "source": [
    "#(tip) 함수 만들기\n",
    "# 1. 전처리 \n",
    "# 1-1. 스케일링\n",
    "# 1-2. 입력값 만들기\n",
    "#-------------------\n",
    "# 2. 예측하기 \n",
    "# 2-1. 단계1을 모델로 0,1 구분 \n",
    "# 2-2. 단계 1의 결과로 데이터 나누기\n",
    "# 2-3. 단계2 모델로 예측\n",
    "# 2-4. 예측 결과 원래 값으로 변환\n",
    "# 2-5. 하나로 합쳐보기\n",
    "#-------------------\n",
    "# 3. 최종 성능평가 하기"
   ]
  },
  {
   "cell_type": "code",
   "execution_count": null,
   "metadata": {
    "id": "ZdO7GTOq1Vtl"
   },
   "outputs": [],
   "source": [
    "# (옵션) 위 참고해서 분류모델 파이프라인 만들어보기"
   ]
  },
  {
   "cell_type": "markdown",
   "metadata": {
    "id": "pk2Efe1K1MHn"
   },
   "source": [
    "#### 2) test 셋으로 예측하고 평가하기"
   ]
  },
  {
   "cell_type": "code",
   "execution_count": null,
   "metadata": {
    "id": "eVLnQbdfUyx9"
   },
   "outputs": [],
   "source": [
    "# test 셋의 구조 한번 확인해보고 성능평가 해보기"
   ]
  },
  {
   "cell_type": "code",
   "execution_count": null,
   "metadata": {
    "id": "ApfVsX_Zzr7r"
   },
   "outputs": [],
   "source": []
  }
 ],
 "metadata": {
  "colab": {
   "provenance": [],
   "toc_visible": true
  },
  "kernelspec": {
   "display_name": "base",
   "language": "python",
   "name": "python3"
  },
  "language_info": {
   "codemirror_mode": {
    "name": "ipython",
    "version": 3
   },
   "file_extension": ".py",
   "mimetype": "text/x-python",
   "name": "python",
   "nbconvert_exporter": "python",
   "pygments_lexer": "ipython3",
   "version": "3.12.4"
  }
 },
 "nbformat": 4,
 "nbformat_minor": 0
}
