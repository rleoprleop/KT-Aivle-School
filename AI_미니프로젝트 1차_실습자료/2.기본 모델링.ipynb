{
 "cells": [
  {
   "cell_type": "markdown",
   "metadata": {
    "id": "NbI_RoQ9AP5r"
   },
   "source": [
    "#**스마트폰 센서 데이터 기반 모션 분류**\n",
    "# 단계2 : 기본 모델링\n"
   ]
  },
  {
   "cell_type": "markdown",
   "metadata": {
    "id": "D67PlTu4JGAY"
   },
   "source": [
    "## 0.미션3"
   ]
  },
  {
   "cell_type": "markdown",
   "metadata": {
    "id": "ubUjMgXEzTUv"
   },
   "source": [
    "* 데이터 전처리\n",
    "    * 가변수화, 데이터 분할, NaN 확인 및 조치, 스케일링 등 필요한 전처리 수행\n",
    "* 다양한 딥러닝 구조의 모델로 분류 모델 생성\n",
    "    * 최소 4개 이상 모델링 수행\n",
    "    * 각 모델별 최소 5회 반복수행해서 얻은 성능의 평균으로 비교\n",
    "    * 각 모델의 성능을 저장하는 별도 데이터 프레임을 만들고 비교\n",
    "* 옵션 : 다음 사항은 선택사항입니다. 시간이 허용하는 범위 내에서 수행하세요.\n",
    "    * 상위 N개 변수를 선정하여 모델링 및 성능 비교\n",
    "        * 모델링에 항상 모든 변수가 필요한 것은 아닙니다.\n",
    "        * 변수 중요도 상위 N개를 선정하여 모델링하고 타 모델과 성능을 비교하세요.\n",
    "        * 상위 N개를 선택하는 방법은, 변수를 하나씩 늘려가며 모델링 및 성능 검증을 수행하여 적절한 지점을 찾는 것입니다.\n",
    "* 성능 가이드\n",
    "    * Accuracy : 0.90 ~ 0.99"
   ]
  },
  {
   "cell_type": "markdown",
   "metadata": {
    "id": "a2oWtdJPzTUy"
   },
   "source": [
    "## 1.환경설정"
   ]
  },
  {
   "cell_type": "markdown",
   "metadata": {
    "id": "OUF6xQFZzTUz"
   },
   "source": [
    "* 세부 요구사항\n",
    "    - 경로 설정 : 구글콜랩\n",
    "        * 구글 드라이브 바로 밑에 project3 폴더를 만들고,\n",
    "        * 데이터 파일을 복사해 넣습니다.\n",
    "    - 기본적으로 필요한 라이브러리를 import 하도록 코드가 작성되어 있습니다.\n",
    "        * 필요하다고 판단되는 라이브러리를 추가하세요.\n"
   ]
  },
  {
   "cell_type": "markdown",
   "metadata": {
    "id": "4bg7tWxSzTU0"
   },
   "source": [
    "### (1) 경로 설정"
   ]
  },
  {
   "cell_type": "markdown",
   "metadata": {
    "id": "o86e1aHRzTU0"
   },
   "source": [
    "* 구글 드라이브 연결"
   ]
  },
  {
   "cell_type": "code",
   "execution_count": null,
   "metadata": {
    "id": "9G0Si0qDzTU0"
   },
   "outputs": [],
   "source": [
    "from google.colab import drive\n",
    "drive.mount('/content/drive')"
   ]
  },
  {
   "cell_type": "code",
   "execution_count": null,
   "metadata": {
    "id": "5i7K-4UGzTU3"
   },
   "outputs": [],
   "source": [
    "path = '/content/drive/MyDrive/project3/'"
   ]
  },
  {
   "cell_type": "markdown",
   "metadata": {
    "id": "0Xnr5atSzTU4"
   },
   "source": [
    "### (2) 라이브러리 불러오기"
   ]
  },
  {
   "cell_type": "markdown",
   "metadata": {
    "id": "waGFA7e9zTU4"
   },
   "source": [
    "* 라이브러리 로딩\n",
    "     - pandas, numpy,matplotlib,seaborn, joblib, 모델링에 필요한 라이브러리를 로딩합니다. "
   ]
  },
  {
   "cell_type": "code",
   "execution_count": null,
   "metadata": {
    "id": "cuVV49MizTU5"
   },
   "outputs": [],
   "source": [
    "import pandas as pd\n",
    "import numpy as np\n",
    "import matplotlib.pyplot as plt\n",
    "import seaborn as sns\n",
    "\n",
    "import joblib\n",
    "from tqdm import tqdm\n",
    "\n",
    "from sklearn.model_selection import train_test_split\n",
    "from sklearn.preprocessing import MinMaxScaler, LabelEncoder\n",
    "from sklearn.metrics import *\n",
    "\n",
    "from keras.models import Sequential\n",
    "from keras.layers import Dense, Flatten, Dropout, Input\n",
    "from keras.backend import clear_session\n",
    "from keras.optimizers import Adam"
   ]
  },
  {
   "cell_type": "code",
   "execution_count": null,
   "metadata": {
    "id": "3c4JgiEbNKfo"
   },
   "outputs": [],
   "source": [
    "# 학습곡선 함수\n",
    "def dl_history_plot(history):\n",
    "    plt.figure(figsize=(10,6))\n",
    "    plt.plot(history['loss'], label='train_err', marker = '.')\n",
    "    plt.plot(history['val_loss'], label='val_err', marker = '.')\n",
    "\n",
    "    plt.ylabel('Loss')\n",
    "    plt.xlabel('Epoch')\n",
    "    plt.legend()\n",
    "    plt.grid()\n",
    "    plt.show()"
   ]
  },
  {
   "cell_type": "markdown",
   "metadata": {
    "id": "bA-eHXdwBDCz"
   },
   "source": [
    "### (3) 데이터 불러오기"
   ]
  },
  {
   "cell_type": "markdown",
   "metadata": {
    "id": "HwIACQyupklv"
   },
   "source": [
    "* 주어진 데이터셋\n",
    "    * data01_train.csv : 학습 및 검증용\n",
    "    * data01_test.csv : 테스트용\n",
    "    * feature.csv : feature 이름을 계층구조로 정리한 데이터\n",
    "\n",
    "* 세부 요구사항\n",
    "    * 칼럼 삭제 : data01_train.csv와 data01_test.csv 에서 'subject' 칼럼은 불필요하므로 삭제합니다."
   ]
  },
  {
   "cell_type": "markdown",
   "metadata": {
    "id": "fmgUEGOipvG5"
   },
   "source": [
    "#### 1) 데이터로딩"
   ]
  },
  {
   "cell_type": "code",
   "execution_count": null,
   "metadata": {
    "id": "HdZCcSs6qfRC"
   },
   "outputs": [],
   "source": [
    "# 주어진 데이터 셋을 불러오세요.(3개)"
   ]
  },
  {
   "cell_type": "code",
   "execution_count": null,
   "metadata": {
    "id": "V8tUE_fyqfRC"
   },
   "outputs": [],
   "source": [
    "#불필요한 칼럼을 삭제하세요."
   ]
  },
  {
   "cell_type": "code",
   "execution_count": null,
   "metadata": {
    "id": "FcUbOi_-qfRC"
   },
   "outputs": [],
   "source": []
  },
  {
   "cell_type": "markdown",
   "metadata": {
    "id": "aI7qJqz3pr3m"
   },
   "source": [
    "#### 2) 기본 정보 조회"
   ]
  },
  {
   "cell_type": "code",
   "execution_count": null,
   "metadata": {
    "id": "yFVSAGNhpr3m"
   },
   "outputs": [],
   "source": [
    "#전체 데이터의 행,열 개수 확인"
   ]
  },
  {
   "cell_type": "code",
   "execution_count": null,
   "metadata": {
    "id": "xJnnr8K-pr3m"
   },
   "outputs": [],
   "source": [
    "#전체 데이터의 상위 5개 행 확인"
   ]
  },
  {
   "cell_type": "code",
   "execution_count": null,
   "metadata": {
    "id": "ajJ1qJkhpr3n"
   },
   "outputs": [],
   "source": [
    "#전체 데이터의 수치형 변수 분포 확인"
   ]
  },
  {
   "cell_type": "code",
   "execution_count": null,
   "metadata": {
    "id": "Jn78I6JFpr3n"
   },
   "outputs": [],
   "source": [
    "#전체 데이터의 모든 변수 확인"
   ]
  },
  {
   "cell_type": "markdown",
   "metadata": {
    "id": "L4vnMOyNzt3x"
   },
   "source": [
    "## **2. 데이터 전처리**\n",
    "\n",
    "* 가변수화, 데이터 분할, NaN 확인 및 조치, 스케일링 등 필요한 전처리를 수행한다.\n"
   ]
  },
  {
   "cell_type": "markdown",
   "metadata": {
    "id": "I_9sGxvxzt3y"
   },
   "source": [
    "### (1) 데이터 분할1 : x, y"
   ]
  },
  {
   "cell_type": "markdown",
   "metadata": {
    "id": "1TqlYFz-zt3z"
   },
   "source": [
    "* 세부 요구사항\n",
    "    - x, y로 분할합니다."
   ]
  },
  {
   "cell_type": "code",
   "execution_count": null,
   "metadata": {
    "id": "EAm84rxdzt30"
   },
   "outputs": [],
   "source": [
    "# 데이터 분할을 합니다. "
   ]
  },
  {
   "cell_type": "markdown",
   "metadata": {
    "id": "kH0LsKFizt30"
   },
   "source": [
    "### (2) 스케일링\n"
   ]
  },
  {
   "cell_type": "markdown",
   "metadata": {
    "id": "9EKjPKYjzt31"
   },
   "source": [
    "* 세부 요구사항\n",
    "    - 스케일링을 필요로 하는 알고리즘 사용을 위해서 코드 수행\n",
    "    - min-max 방식 혹은 standard 방식 중 한가지 사용."
   ]
  },
  {
   "cell_type": "code",
   "execution_count": null,
   "metadata": {
    "id": "zkEtWdkUzt31"
   },
   "outputs": [],
   "source": [
    "#스케일링 방식을 선택해서 스케일링을 진행합니다. "
   ]
  },
  {
   "cell_type": "markdown",
   "metadata": {
    "id": "erf1kwLNL_BG"
   },
   "source": [
    "### (3) Y 전처리\n",
    "* integer encoding : LabelEncoder\n",
    "* (필요시) one-hot encoding"
   ]
  },
  {
   "cell_type": "code",
   "execution_count": null,
   "metadata": {
    "id": "V9ZjiqZxL9vu"
   },
   "outputs": [],
   "source": [
    "# 정수 인코딩 변환(LabelEncoder)"
   ]
  },
  {
   "cell_type": "code",
   "execution_count": null,
   "metadata": {
    "id": "yXa3uZu_MciF"
   },
   "outputs": [],
   "source": [
    "# 기존 레이블 저장"
   ]
  },
  {
   "cell_type": "markdown",
   "metadata": {
    "id": "KvFgLaegzt34"
   },
   "source": [
    "### (4) 데이터분할2 : train, validation"
   ]
  },
  {
   "cell_type": "markdown",
   "metadata": {
    "id": "eaMzPqRmzt34"
   },
   "source": [
    "* 세부 요구사항\n",
    "    - train : val = 8 : 2 혹은 7 : 3\n",
    "    - random_state 옵션을 사용하여 다른 모델과 비교를 위해 성능이 재현되도록 합니다."
   ]
  },
  {
   "cell_type": "code",
   "execution_count": null,
   "metadata": {
    "id": "0UiQn0pmzt35"
   },
   "outputs": [],
   "source": [
    "#데이터 분할 진행(train:val = 8:2 혹은 7:3 권장)"
   ]
  },
  {
   "cell_type": "markdown",
   "metadata": {
    "id": "QqIj25L-zt35"
   },
   "source": [
    "## **3. 기본 모델링**\n",
    "\n"
   ]
  },
  {
   "cell_type": "markdown",
   "metadata": {
    "id": "PsIDduJnzt36"
   },
   "source": [
    "* 세부 요구사항\n",
    "    - 모델1 : Base line 모델\n",
    "        * Hidden Layer 없이 모델 생성\n",
    "    - 모델2 : 복잡한 모델 생성\n",
    "        * 최소 5개 이상의 은닉층을 추가한 모델\n",
    "    - 모델3 ~ n : 튜닝 모델\n",
    "        * 학습률, epoch 등 조정\n",
    "        * 모델2에 과적합을 방지하기 위한 규제 기법 추가\n",
    "        * Accuracy 최대화 시키는 모델 생성하기\n",
    "    - (옵션) 각 모델은 최소 5번 반복수행해서 얻은 성능의 평균값을 기록"
   ]
  },
  {
   "cell_type": "markdown",
   "metadata": {
    "id": "WnvECv0azt36"
   },
   "source": [
    "### (1) 모델1 : Hidden Layer 없이 모델 생성"
   ]
  },
  {
   "cell_type": "code",
   "execution_count": null,
   "metadata": {
    "id": "Knj7SzObz8_2"
   },
   "outputs": [],
   "source": [
    "# 모델 설계"
   ]
  },
  {
   "cell_type": "code",
   "execution_count": null,
   "metadata": {
    "id": "r4B2GA36z88O"
   },
   "outputs": [],
   "source": [
    "# 컴파일 및 학습"
   ]
  },
  {
   "cell_type": "code",
   "execution_count": null,
   "metadata": {
    "id": "NwhuwDe2z85Y"
   },
   "outputs": [],
   "source": [
    "# 학습곡선"
   ]
  },
  {
   "cell_type": "code",
   "execution_count": null,
   "metadata": {
    "id": "pYPpnSz9z82R"
   },
   "outputs": [],
   "source": [
    "# 예측 및 평가"
   ]
  },
  {
   "cell_type": "code",
   "execution_count": null,
   "metadata": {},
   "outputs": [],
   "source": [
    "#(옵션) 모델1번을 최소 5번 반복수행해서 얻은 성능의 평균값을 기록해보자!"
   ]
  },
  {
   "cell_type": "markdown",
   "metadata": {
    "id": "howmy2pdOUwh"
   },
   "source": [
    "### (2) 모델2 : 최소 5개 이상의 은닉층을 추가한 모델"
   ]
  },
  {
   "cell_type": "code",
   "execution_count": null,
   "metadata": {
    "id": "4RbzxM6fz9ji"
   },
   "outputs": [],
   "source": [
    "# 모델 설계"
   ]
  },
  {
   "cell_type": "code",
   "execution_count": null,
   "metadata": {
    "id": "9nm0jxxVz9ji"
   },
   "outputs": [],
   "source": [
    "# 컴파일 및 학습"
   ]
  },
  {
   "cell_type": "code",
   "execution_count": null,
   "metadata": {
    "id": "OKOXibRCz9jj"
   },
   "outputs": [],
   "source": [
    "# 학습곡선"
   ]
  },
  {
   "cell_type": "code",
   "execution_count": null,
   "metadata": {
    "id": "LGXSnT6bz9jj"
   },
   "outputs": [],
   "source": [
    "# 예측 및 평가"
   ]
  },
  {
   "cell_type": "markdown",
   "metadata": {
    "id": "lId5dvDwQGEi"
   },
   "source": [
    "### (3) 모델3 : 학습률, epoch 등 조정"
   ]
  },
  {
   "cell_type": "code",
   "execution_count": null,
   "metadata": {
    "id": "Zba9A_jRz-6E"
   },
   "outputs": [],
   "source": [
    "# 모델 설계"
   ]
  },
  {
   "cell_type": "code",
   "execution_count": null,
   "metadata": {
    "id": "GJsLIziOz-6F"
   },
   "outputs": [],
   "source": [
    "# 컴파일 및 학습"
   ]
  },
  {
   "cell_type": "code",
   "execution_count": null,
   "metadata": {
    "id": "gwXb2CnFz-6G"
   },
   "outputs": [],
   "source": [
    "# 학습곡선"
   ]
  },
  {
   "cell_type": "code",
   "execution_count": null,
   "metadata": {
    "id": "5AoGDqnvz-6G"
   },
   "outputs": [],
   "source": [
    "# 예측 및 평가"
   ]
  },
  {
   "cell_type": "markdown",
   "metadata": {
    "id": "kSjKuMEbv1vK"
   },
   "source": [
    "### (4) 모델4 :  학습률, epoch 등 조정"
   ]
  },
  {
   "cell_type": "code",
   "execution_count": null,
   "metadata": {
    "id": "0DnEt4SR0AH7"
   },
   "outputs": [],
   "source": [
    "# 모델 설계"
   ]
  },
  {
   "cell_type": "code",
   "execution_count": null,
   "metadata": {
    "id": "JKW9t5-b0AH8"
   },
   "outputs": [],
   "source": [
    "# 컴파일 및 학습"
   ]
  },
  {
   "cell_type": "code",
   "execution_count": null,
   "metadata": {
    "id": "5LviYQi-0AH9"
   },
   "outputs": [],
   "source": [
    "# 학습곡선"
   ]
  },
  {
   "cell_type": "code",
   "execution_count": null,
   "metadata": {
    "id": "D91OxYLW0AH9"
   },
   "outputs": [],
   "source": [
    "# 예측 및 평가"
   ]
  },
  {
   "cell_type": "markdown",
   "metadata": {
    "id": "_OTuXbgHzt4H"
   },
   "source": [
    "## 4.성능비교"
   ]
  },
  {
   "cell_type": "markdown",
   "metadata": {
    "id": "2TjwzbyYzt4I"
   },
   "source": [
    "* 세부 요구사항\n",
    "    - test 데이터에 대한 전처리\n",
    "    - 각 모델에 대해서 test 데이터로 성능 측정"
   ]
  },
  {
   "cell_type": "code",
   "execution_count": null,
   "metadata": {
    "id": "3Y10D1FsiNEt"
   },
   "outputs": [],
   "source": [
    "#전체 데이터 불러오기(test)\n",
    "\n",
    "# subject 삭제\n",
    "\n",
    "# x, y 분할\n",
    "\n",
    "# x : 스케일링 적용\n",
    "\n",
    "# y : 정수인코딩 적용"
   ]
  },
  {
   "cell_type": "code",
   "execution_count": null,
   "metadata": {
    "id": "ciIQPNqriNBe"
   },
   "outputs": [],
   "source": [
    "# test 데이터에 대한 성능 측정"
   ]
  },
  {
   "cell_type": "markdown",
   "metadata": {},
   "source": [
    "#### 고생하셨습니다! 이제 단계적 모델링을 해봅시다."
   ]
  }
 ],
 "metadata": {
  "colab": {
   "provenance": [],
   "toc_visible": true
  },
  "kernelspec": {
   "display_name": "Python 3",
   "name": "python3"
  },
  "language_info": {
   "name": "python"
  }
 },
 "nbformat": 4,
 "nbformat_minor": 0
}
