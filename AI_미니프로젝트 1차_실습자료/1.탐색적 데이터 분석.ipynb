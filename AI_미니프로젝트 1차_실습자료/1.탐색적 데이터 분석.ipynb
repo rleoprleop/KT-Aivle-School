{
 "cells": [
  {
   "cell_type": "markdown",
   "metadata": {
    "id": "mJlY5pHkC2AM"
   },
   "source": [
    "#**스마트폰 센서 데이터 기반 모션 분류**\n",
    "# 단계1 : 탐색적 데이터 분석"
   ]
  },
  {
   "cell_type": "markdown",
   "metadata": {
    "id": "fkCXuTqYyVhQ"
   },
   "source": [
    "## 0.미션"
   ]
  },
  {
   "cell_type": "markdown",
   "metadata": {
    "id": "6TXOZrJmyVhS"
   },
   "source": [
    "### (1) 미션1\n",
    "수많은 feature들을 모두 살펴보는 것은 과도한 시간과 노력이 필요합니다. 그래서 여러분은 **선택과 집중**을 해야 합니다.\n",
    "* 1) **기본 모델을 생성**한 후 **변수 중요도**를 구합니다.   \n",
    "    * random forest 알고리즘 사용을 권장합니다.\n",
    "* 2) **중요한 feature와 중요하지 않은 feature 상위 N개를 선정**하고, 이들을 대상으로 EDA 수행.\n"
   ]
  },
  {
   "cell_type": "markdown",
   "metadata": {
    "id": "AOxV92YiyVhS"
   },
   "source": [
    "### (2) 미션2\n",
    "다음의 case에 맞게 feature 및 feature 그룹 중요도를 기반으로 탐색적 데이터 분석을 수행하시오.\n",
    "* Target을 **정적/동적 행동**으로 구분\n",
    "    * 6개의 행동은 2개의 그룹(정적행동, 동적행동)으로 나뉩니다.  \n",
    "    * 어떤 feature(혹은 feature 그룹)이 2개 class 그룹(정적행동, 동적행동)를 구분하는데 중요한지를 찾아보고 탐색해봅시다.\n"
   ]
  },
  {
   "cell_type": "markdown",
   "metadata": {
    "id": "gRT1ZkoLpZ8L"
   },
   "source": [
    "## 1.환경설정"
   ]
  },
  {
   "cell_type": "markdown",
   "metadata": {
    "id": "yfvvK98cpklr"
   },
   "source": [
    "* 세부 요구사항\n",
    "    - 경로 설정 : 구글콜랩\n",
    "        * 구글 드라이브 바로 밑에 project3 폴더를 만들고,\n",
    "        * 데이터 파일을 복사해 넣습니다.\n",
    "    - 기본적으로 필요한 라이브러리를 import 하도록 코드가 작성되어 있습니다.\n",
    "        * 필요하다고 판단되는 라이브러리를 추가하세요.\n"
   ]
  },
  {
   "cell_type": "markdown",
   "metadata": {
    "id": "iXpkid8ryVhT"
   },
   "source": [
    "### (1) 경로 설정"
   ]
  },
  {
   "cell_type": "markdown",
   "metadata": {
    "id": "ASsVfA0WpZ8O"
   },
   "source": [
    "* 구글 드라이브 연결"
   ]
  },
  {
   "cell_type": "code",
   "execution_count": null,
   "metadata": {
    "colab": {
     "base_uri": "https://localhost:8080/"
    },
    "executionInfo": {
     "elapsed": 21000,
     "status": "ok",
     "timestamp": 1682559929902,
     "user": {
      "displayName": "허신 - Business Intelligence",
      "userId": "11511914061488776232"
     },
     "user_tz": -540
    },
    "id": "RJZ82z8mpZ8P",
    "outputId": "91074341-9b2a-405c-ea23-70cb889a5a3e"
   },
   "outputs": [
    {
     "name": "stdout",
     "output_type": "stream",
     "text": [
      "Mounted at /content/drive\n"
     ]
    }
   ],
   "source": [
    "from google.colab import drive\n",
    "drive.mount('/content/drive')"
   ]
  },
  {
   "cell_type": "code",
   "execution_count": null,
   "metadata": {
    "id": "B0vAejN5pZ8P"
   },
   "outputs": [],
   "source": [
    "path = '/content/drive/MyDrive/project3/'"
   ]
  },
  {
   "cell_type": "markdown",
   "metadata": {
    "id": "3dm30YEUpZ8Q"
   },
   "source": [
    "### (2) 라이브러리 설치 및 불러오기"
   ]
  },
  {
   "cell_type": "markdown",
   "metadata": {
    "id": "mNp-QI74ycJT"
   },
   "source": [
    "* 라이브러리 로딩\n",
    "    - pandas, numpy,matplotlib,seaborn, joblib 을 로딩하고\n",
    "    필요한 라이브러리를 로딩합니다. \n",
    "    <br>(분류 모델에서는 이번에 RandomForestClassifier를 씁니다. 더 많은 분류 모델을 써도 됩니다!)"
   ]
  },
  {
   "cell_type": "code",
   "execution_count": null,
   "metadata": {
    "id": "sfkLtQ-WpZ8S"
   },
   "outputs": [],
   "source": [
    "import pandas as pd\n",
    "import numpy as np\n",
    "import matplotlib.pyplot as plt\n",
    "import seaborn as sns\n",
    "\n",
    "import joblib\n",
    "\n",
    "from sklearn.ensemble import RandomForestClassifier"
   ]
  },
  {
   "cell_type": "markdown",
   "metadata": {
    "id": "XZ6nyqZkpZ8S"
   },
   "source": [
    "* 제공 함수 생성\n",
    "    * 변수 중요도를 시각화할 수 있는 함수를 제공합니다.\n",
    "    * 입력 :\n",
    "        * importance : 트리모델의 변수 중요도(예: model.feature_importances_)\n",
    "        * names : 변수 이름 목록(예 : x_train.columns)\n",
    "        * result_only  : 변수 중요도 순으로 데이터프레임만 return할지, 그래프도 포함할지 결정. False이면 결과 데이터프레임 + 그래프\n",
    "        * topn : 중요도 상위 n개만 표시. all 이면 전체.\n",
    "    * 출력 :\n",
    "        * 중요도 그래프 : 중요도 내림차순으로 정렬\n",
    "        * 중요도 데이터프레임 : 중요도 내림차순으로 정렬"
   ]
  },
  {
   "cell_type": "code",
   "execution_count": null,
   "metadata": {
    "id": "X-mQWvY3pZ8S"
   },
   "outputs": [],
   "source": [
    "# 변수의 특성 중요도 계산하기\n",
    "def plot_feature_importance(importance, names, result_only = False, topn = 'all'):\n",
    "    feature_importance = np.array(importance)\n",
    "    feature_name = np.array(names)\n",
    "\n",
    "    data={'feature_name':feature_name,'feature_importance':feature_importance}\n",
    "    fi_temp = pd.DataFrame(data)\n",
    "\n",
    "    #변수의 특성 중요도 순으로 정렬하기\n",
    "    fi_temp.sort_values(by=['feature_importance'], ascending=False,inplace=True)\n",
    "    fi_temp.reset_index(drop=True, inplace = True)\n",
    "\n",
    "    if topn == 'all' :\n",
    "        fi_df = fi_temp.copy()\n",
    "    else :\n",
    "        fi_df = fi_temp.iloc[:topn]\n",
    "\n",
    "    #변수의 특성 중요도 그래프로 그리기\n",
    "    if result_only == False :\n",
    "        plt.figure(figsize=(10,20))\n",
    "        sns.barplot(x='feature_importance', y='feature_name', data = fi_df)\n",
    "\n",
    "        plt.xlabel('importance')\n",
    "        plt.ylabel('feature name')\n",
    "        plt.grid()\n",
    "\n",
    "    return fi_df"
   ]
  },
  {
   "cell_type": "markdown",
   "metadata": {
    "id": "FmAq9-5IpZ8T"
   },
   "source": [
    "### (3) 데이터 불러오기"
   ]
  },
  {
   "cell_type": "markdown",
   "metadata": {
    "id": "OamCRxS-ycJW"
   },
   "source": [
    "* 주어진 데이터셋\n",
    "    * data01_train.csv : 학습 및 검증용\n",
    "    * data01_test.csv : 테스트용\n",
    "    * feature.csv : feature 이름을 계층구조로 정리한 데이터\n",
    "\n",
    "* 세부 요구사항\n",
    "    * 칼럼 삭제 : data01_train.csv와 data01_test.csv 에서 'subject' 칼럼은 불필요하므로 삭제합니다."
   ]
  },
  {
   "cell_type": "code",
   "execution_count": null,
   "metadata": {
    "id": "8KZ-zuf2ycJX"
   },
   "outputs": [],
   "source": [
    "# 주어진 데이터 셋을 불러오세요."
   ]
  },
  {
   "cell_type": "code",
   "execution_count": null,
   "metadata": {
    "id": "40R4Qk0pycJX"
   },
   "outputs": [],
   "source": [
    "#불필요한 칼럼을 삭제하세요."
   ]
  },
  {
   "cell_type": "markdown",
   "metadata": {
    "id": "MCdVOxN8BQCc"
   },
   "source": [
    "## 2.데이터 분석 : 기본정보 살펴보기"
   ]
  },
  {
   "cell_type": "markdown",
   "metadata": {
    "id": "JsX1zLaIXwbo"
   },
   "source": [
    "### (1) 기본정보 확인하기\n"
   ]
  },
  {
   "cell_type": "markdown",
   "metadata": {
    "id": "8Z6Fmjg7oizl"
   },
   "source": [
    "* **세부 요구사항**\n",
    "    - 불러온 데이터의 형태, 기초통계량, 정보 등을 확인합니다."
   ]
  },
  {
   "cell_type": "code",
   "execution_count": null,
   "metadata": {
    "id": "t2GW6WTJE60s"
   },
   "outputs": [],
   "source": [
    "# 전체 데이터의 행, 열 개수를 확인"
   ]
  },
  {
   "cell_type": "code",
   "execution_count": null,
   "metadata": {
    "id": "1ePaMVD6FKLP"
   },
   "outputs": [],
   "source": [
    "# 전체 데이터의 상위 5개 행 확인"
   ]
  },
  {
   "cell_type": "code",
   "execution_count": null,
   "metadata": {
    "id": "rpIGL5XNFL6r"
   },
   "outputs": [],
   "source": [
    "# 전체 데이터의 수치형 변수 분포 확인"
   ]
  },
  {
   "cell_type": "code",
   "execution_count": null,
   "metadata": {
    "id": "6AE1REEhFQT3"
   },
   "outputs": [],
   "source": [
    "#전체 데이터의 모든 변수 확인"
   ]
  },
  {
   "cell_type": "code",
   "execution_count": null,
   "metadata": {},
   "outputs": [],
   "source": [
    "#(추가) 다양하게 기본 정보들을 확인하세요!"
   ]
  },
  {
   "cell_type": "markdown",
   "metadata": {
    "id": "JS-uDFHkt7rg"
   },
   "source": [
    "### (2) 목표 변수 확인하기"
   ]
  },
  {
   "cell_type": "markdown",
   "metadata": {
    "id": "QivYs5qqMiu0"
   },
   "source": [
    "* **세부 요구사항**\n",
    "    - target인 'Activity'에 대해 단변량 분석을 수행합니다.\n",
    "    - 범주의 종류, 범주별 빈도수 및 비율 등"
   ]
  },
  {
   "cell_type": "code",
   "execution_count": null,
   "metadata": {
    "id": "5fTKwVPRK7VZ"
   },
   "outputs": [],
   "source": [
    "# Activity 에 대해서 단변량 분석을 시행합니다. (범주별 빈도수, 종류, 비율, 시각화도 해보기!)"
   ]
  },
  {
   "cell_type": "code",
   "execution_count": null,
   "metadata": {
    "id": "N_KYcqnfPLoE"
   },
   "outputs": [],
   "source": []
  },
  {
   "cell_type": "code",
   "execution_count": null,
   "metadata": {
    "id": "X7TPpkCrPXx3"
   },
   "outputs": [],
   "source": []
  },
  {
   "cell_type": "markdown",
   "metadata": {
    "id": "gT0VQr2lFo2C"
   },
   "source": [
    "### (3) 센서 그룹 데이터: features"
   ]
  },
  {
   "cell_type": "markdown",
   "metadata": {
    "id": "wlmfrOTFV6a-"
   },
   "source": [
    "* **세부 요구사항**\n",
    "    - feature 이름에 대한 계층 구조별로 변수의 수를 카운트 해 봅시다.\n",
    "        - sensor 별 변수의 개수\n",
    "        - agg(regation) 별 변수의 개수\n",
    "        - axis 별 변수의 개수"
   ]
  },
  {
   "cell_type": "code",
   "execution_count": null,
   "metadata": {
    "id": "KbNqUQJyFztM"
   },
   "outputs": [],
   "source": [
    "#센서 그룹 데이터의 'sensor'변수의 값 확인"
   ]
  },
  {
   "cell_type": "code",
   "execution_count": null,
   "metadata": {
    "id": "7iUzzCVIF6Ag"
   },
   "outputs": [],
   "source": [
    "#센서 그룹 데이터의 'agg'변수의 값 확인"
   ]
  },
  {
   "cell_type": "code",
   "execution_count": null,
   "metadata": {
    "id": "60rRSVD-F701"
   },
   "outputs": [],
   "source": [
    "#센서 그룹 데이터의 'axis'변수의 값 확인"
   ]
  },
  {
   "cell_type": "markdown",
   "metadata": {
    "id": "EqqdFgZGynmJ"
   },
   "source": [
    "## 3.미션1 : 데이터 분석1"
   ]
  },
  {
   "cell_type": "markdown",
   "metadata": {
    "id": "19FU593EynmK"
   },
   "source": [
    "수많은 feature들을 모두 살펴보는 것은 과도한 시간과 노력이 필요합니다. 그래서 여러분은 **선택과 집중**을 해야 합니다.\n",
    "* 1) **트리 모델을 생성**한 후 **변수 중요도**를 구합니다.   \n",
    "    * random forest 알고리즘 사용을 권장합니다.\n",
    "* 2) **중요한 feature 상위 N개를 선정**하고, 이들을 대상으로 EDA 수행.\n",
    "* 3) **각 feature 그룹별 중요도**도 파악해보며 EDA를 수행  \n",
    "    * Feature 이름에는 계층구조를 담고 있습니다. 그렇다 보니 feature들을 적절하게 그룹으로 묶을 수 있습니다.\n",
    "    * 참고로, feature 그룹의 중요도는 개별 feature 중요도의 합으로 계산할 수 있습니다."
   ]
  },
  {
   "cell_type": "markdown",
   "metadata": {
    "id": "ny-X5nZaXQZk"
   },
   "source": [
    "### (1) 기본모델링 + 변수중요도 추출"
   ]
  },
  {
   "cell_type": "markdown",
   "metadata": {
    "id": "s9HLFlSwXana"
   },
   "source": [
    "* **세부 요구사항**\n",
    "    - 모델링을 위한 기본 전처리를 수행합니다.\n",
    "        - 주어진 데이터에서는 x, y로 나누고 train과 validation 분할 수행\n",
    "    - 트리기반 알고리즘을 이용하여 모델링을 합니다.\n",
    "        - 랜덤포레스트 권장 : 랜덤포레스트는 튜닝 없이 하이퍼파리미터의 기본값로도 적절한 성능의 모델을 생성할 수 있습니다.\n",
    "    - 변수 중요도 추출\n",
    "        - 사용자정의함수로 생성한 plot_feature_importance 을 이용\n",
    "        - 변수중요도 파악및 결과 저장"
   ]
  },
  {
   "cell_type": "markdown",
   "metadata": {
    "id": "6CKLPBniYcmM"
   },
   "source": [
    "#### 1) 데이터 전처리"
   ]
  },
  {
   "cell_type": "code",
   "execution_count": null,
   "metadata": {
    "id": "C_A1URAmXUlm"
   },
   "outputs": [],
   "source": [
    "# 데이터 분할을 위한 전처리"
   ]
  },
  {
   "cell_type": "markdown",
   "metadata": {
    "id": "QhjPgXkRYfa5"
   },
   "source": [
    "#### 2) 모델링"
   ]
  },
  {
   "cell_type": "code",
   "execution_count": null,
   "metadata": {
    "id": "9XeNd-owX6j4"
   },
   "outputs": [],
   "source": [
    "#생성\n",
    "\n",
    "#학습\n",
    "\n",
    "#평가"
   ]
  },
  {
   "cell_type": "markdown",
   "metadata": {
    "id": "_ZK9VmWAYiVE"
   },
   "source": [
    "#### 3) 변수 중요도 추출"
   ]
  },
  {
   "cell_type": "code",
   "execution_count": null,
   "metadata": {
    "id": "9xd7bwOVYQ-9"
   },
   "outputs": [],
   "source": [
    "# 변수 중요도 추출(시각화로 나타내기)"
   ]
  },
  {
   "cell_type": "markdown",
   "metadata": {
    "id": "Xm1TP76PY3wQ"
   },
   "source": [
    "### (2) 중요도 기반 feature 분석"
   ]
  },
  {
   "cell_type": "markdown",
   "metadata": {
    "id": "HTfuP1WKZB7H"
   },
   "source": [
    "* **세부 요구사항**\n",
    "    - 상위 n, 하위 m 개의 변수를 선정\n",
    "    - 선정된 변수(feature)와 target 간의 관계를 kdeplot으로 그리기"
   ]
  },
  {
   "cell_type": "markdown",
   "metadata": {
    "id": "UJLmfWV8Zo_3"
   },
   "source": [
    "#### 1) 상위 5, 하위 5개 변수 선정"
   ]
  },
  {
   "cell_type": "code",
   "execution_count": null,
   "metadata": {
    "id": "RmnAttB0ZsrD"
   },
   "outputs": [],
   "source": [
    "# 중요도 상위 top 5"
   ]
  },
  {
   "cell_type": "code",
   "execution_count": null,
   "metadata": {
    "id": "iyNTScZ5Z1Qg"
   },
   "outputs": [],
   "source": [
    "# 중요도 하위 top 5"
   ]
  },
  {
   "cell_type": "markdown",
   "metadata": {
    "id": "rIDYlz-2aEvg"
   },
   "source": [
    "#### 2) 상위 5개 변수에 대한 분석\n",
    "        - 위에서 나온 상위 5개의 변수를 선정해서 target과의 관계를 kdeplot으로 그려보세요!"
   ]
  },
  {
   "cell_type": "code",
   "execution_count": null,
   "metadata": {
    "id": "2wYkcUY6aFDh"
   },
   "outputs": [],
   "source": [
    "#1위 : oooo "
   ]
  },
  {
   "cell_type": "code",
   "execution_count": null,
   "metadata": {
    "id": "Ips15oW3e_7Q"
   },
   "outputs": [],
   "source": [
    "#2위: vvvvv"
   ]
  },
  {
   "cell_type": "code",
   "execution_count": null,
   "metadata": {
    "id": "w4fOTF1ge_0U"
   },
   "outputs": [],
   "source": []
  },
  {
   "cell_type": "code",
   "execution_count": null,
   "metadata": {
    "id": "o1uaV49He_w1"
   },
   "outputs": [],
   "source": []
  },
  {
   "cell_type": "code",
   "execution_count": null,
   "metadata": {
    "id": "lqeRWYHYe_tI"
   },
   "outputs": [],
   "source": []
  },
  {
   "cell_type": "markdown",
   "metadata": {
    "id": "9TSU1dglbLO6"
   },
   "source": [
    "#### 3) 하위 5개 변수에 대한 분석\n",
    "        - 위에서 하위 5개의 변수를 선정해서 target과의 관계를 kdeplot으로 그려보세요!"
   ]
  },
  {
   "cell_type": "code",
   "execution_count": null,
   "metadata": {
    "id": "Q0uuWz2QfCKm"
   },
   "outputs": [],
   "source": [
    "#1위 : oooo "
   ]
  },
  {
   "cell_type": "code",
   "execution_count": null,
   "metadata": {
    "id": "YAjCiauHfCHO"
   },
   "outputs": [],
   "source": [
    "#2위: vvvvv"
   ]
  },
  {
   "cell_type": "code",
   "execution_count": null,
   "metadata": {
    "id": "Ep0i-sBtfCDz"
   },
   "outputs": [],
   "source": []
  },
  {
   "cell_type": "markdown",
   "metadata": {
    "id": "Y16oLZI6ysot"
   },
   "source": [
    "## 4.미션2 : 데이터 분석2"
   ]
  },
  {
   "cell_type": "markdown",
   "metadata": {
    "id": "D_nHsl1bysou"
   },
   "source": [
    "다음의 case에 맞게 feature 및 feature 그룹 중요도를 기반으로 탐색적 데이터 분석을 수행하시오.\n",
    "* Target을 **정적/동적 행동**으로 구분\n",
    "    * 6개의 행동은 2개의 그룹(정적행동, 동적행동)으로 나뉩니다.  \n",
    "    * 어떤 feature(혹은 feature 그룹)이 2개 class 그룹(정적행동, 동적행동)를 구분하는데 중요한지를 찾아보고 탐색해봅시다."
   ]
  },
  {
   "cell_type": "markdown",
   "metadata": {
    "id": "CyvvAdSUhS-1"
   },
   "source": [
    "### (1) 정적/동적 행동으로 구분하여 분석하기"
   ]
  },
  {
   "cell_type": "markdown",
   "metadata": {
    "id": "dYSWKXJuhcaM"
   },
   "source": [
    "* **세부 요구사항**\n",
    "    - Target인 Activity를 is_dynamic 변수로 변경하시오.\n",
    "        * 값 0 : STANDING, SITTING, LAYING\n",
    "        * 값 1 : WALKING, WALKING_UPSTAIRS, WALKING_DOWNSTAIRS\n",
    "    - is_dynamic을 예측하기 위한 기본 모델을 생성하시오.\n",
    "        * x, is_dynamic을 이용하여 train과 validation으로 데이터 분할\n",
    "        * 기본 모델링\n",
    "    - is_dynamic 을 구분하는데 중요한 변수 상위 5를 분석하시오.\n"
   ]
  },
  {
   "cell_type": "markdown",
   "metadata": {
    "id": "FAvEswmsiU7U"
   },
   "source": [
    "#### 1) is_dynamic 추가"
   ]
  },
  {
   "cell_type": "code",
   "execution_count": null,
   "metadata": {
    "id": "MCBKrl14hZ-O"
   },
   "outputs": [],
   "source": [
    "#is dynamic 변수를 추가하세요(값 0, 값 1 확인해서!)"
   ]
  },
  {
   "cell_type": "markdown",
   "metadata": {
    "id": "PRYATCWBi525"
   },
   "source": [
    "#### 2) 기본모델 생성"
   ]
  },
  {
   "cell_type": "code",
   "execution_count": null,
   "metadata": {
    "id": "i_FJ5TvLhZ7U"
   },
   "outputs": [],
   "source": [
    "#데이터 분할 진행(train:val = 8:2 혹은 7:3 권장)"
   ]
  },
  {
   "cell_type": "code",
   "execution_count": null,
   "metadata": {
    "id": "Xfvk90Z6hZ4O"
   },
   "outputs": [],
   "source": [
    "#RandomForestClassifier로 모델링 진행"
   ]
  },
  {
   "cell_type": "markdown",
   "metadata": {
    "id": "3A6WdFD8jhGY"
   },
   "source": [
    "#### 3) 변수중요도 상위 5개 분석"
   ]
  },
  {
   "cell_type": "code",
   "execution_count": null,
   "metadata": {
    "id": "ZATlOK1Ejoat"
   },
   "outputs": [],
   "source": [
    "# is_dynamic 을 구분하는데 중요한 변수 상위 5를 분석!"
   ]
  },
  {
   "cell_type": "markdown",
   "metadata": {},
   "source": [
    "* 미션1에서 했던 것 처럼 상위 5개의 변수 데이터를 탐색해보기!"
   ]
  },
  {
   "cell_type": "code",
   "execution_count": null,
   "metadata": {
    "id": "JnwF4tzHfY3-"
   },
   "outputs": [],
   "source": [
    "#1위:"
   ]
  },
  {
   "cell_type": "code",
   "execution_count": null,
   "metadata": {
    "id": "7qpnZDkmfYwi"
   },
   "outputs": [],
   "source": [
    "#2위:"
   ]
  },
  {
   "cell_type": "code",
   "execution_count": null,
   "metadata": {
    "id": "nJ_v-H8JfYtU"
   },
   "outputs": [],
   "source": []
  },
  {
   "cell_type": "code",
   "execution_count": null,
   "metadata": {
    "id": "ImEh0VW7fYqg"
   },
   "outputs": [],
   "source": []
  },
  {
   "cell_type": "markdown",
   "metadata": {
    "id": "2zqwV3BEBx4E"
   },
   "source": [
    "## 5.특성 중요도 저장하기"
   ]
  },
  {
   "cell_type": "markdown",
   "metadata": {
    "id": "2h6R82t7-PN6"
   },
   "source": [
    "* **세부 요구사항**\n",
    "    - 지금까지 변수 중요도를 다양한 관점에서 뽑고 분석을 해 보았습니다.\n",
    "        - 관점1 : 6개 행동 구분\n",
    "        - 관점2 : 동적, 정적 행동 구분\n",
    "    - 모든 관점의 변수 중요도를 하나로 합친 후 저장\n",
    "        - merge를 이용하여 features와 합칩니다.\n",
    "        - joblib 패키지의 dump를 이용하여 결과를 저장합니다."
   ]
  },
  {
   "cell_type": "markdown",
   "metadata": {
    "id": "a96bPONJD21Z"
   },
   "source": [
    "### (1) 하나로 합치기\n",
    "* 합치기 위해서는 중요도 결과에서 feature_importance 칼럼 이름을 수정해야 합니다.\n",
    "* pd.merge를 이용해서 하나씩 합치는 작업을 반복 합니다."
   ]
  },
  {
   "cell_type": "markdown",
   "metadata": {
    "id": "O10eFjXiEQfR"
   },
   "source": [
    "#### 1) 이름변경"
   ]
  },
  {
   "cell_type": "code",
   "execution_count": null,
   "metadata": {
    "id": "F3Dt49RhETJX"
   },
   "outputs": [],
   "source": [
    "# tip : rename을 써서 칼럼 이름 수정을 해야합니다!"
   ]
  },
  {
   "cell_type": "markdown",
   "metadata": {
    "id": "_BKOVbOXFG_Y"
   },
   "source": [
    "#### 2) 합치기"
   ]
  },
  {
   "cell_type": "code",
   "execution_count": null,
   "metadata": {
    "id": "BB4X0Pz0E8le"
   },
   "outputs": [],
   "source": [
    "# merge 해서 2개를 합치는 작업하기"
   ]
  },
  {
   "cell_type": "markdown",
   "metadata": {
    "id": "fQxizopUGMzc"
   },
   "source": [
    "### (2) 저장하기\n",
    "* joblib.dump를 이용하시오.\n",
    "* 저장할 파일의 확장자는 보통 .pkl 입니다."
   ]
  },
  {
   "cell_type": "code",
   "execution_count": 1,
   "metadata": {
    "id": "ZzelwBJ-vaRn"
   },
   "outputs": [],
   "source": [
    "# joblib.dump 이용해서 colab에 .pkl 파일에 저장하기(tip: path + '파일 이름.pkl')"
   ]
  },
  {
   "cell_type": "markdown",
   "metadata": {},
   "source": [
    "#### 고생하셨습니다! 이제 기본 모델링을 해봅시다."
   ]
  }
 ],
 "metadata": {
  "colab": {
   "provenance": [],
   "toc_visible": true
  },
  "kernelspec": {
   "display_name": "Python 3 (ipykernel)",
   "language": "python",
   "name": "python3"
  },
  "language_info": {
   "codemirror_mode": {
    "name": "ipython",
    "version": 3
   },
   "file_extension": ".py",
   "mimetype": "text/x-python",
   "name": "python",
   "nbconvert_exporter": "python",
   "pygments_lexer": "ipython3",
   "version": "3.12.4"
  }
 },
 "nbformat": 4,
 "nbformat_minor": 4
}
